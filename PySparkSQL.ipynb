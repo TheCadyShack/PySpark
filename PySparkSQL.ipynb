{
 "cells": [
  {
   "cell_type": "markdown",
   "metadata": {},
   "source": [
    "# Tyler Cady 12/10/2017"
   ]
  },
  {
   "cell_type": "markdown",
   "metadata": {},
   "source": [
    "# Show the offenders that have “Pokemon” in the description. Show only the offender, license plate, and the violation description, not the keys."
   ]
  },
  {
   "cell_type": "markdown",
   "metadata": {},
   "source": [
    "## Import pyspark modules"
   ]
  },
  {
   "cell_type": "code",
   "execution_count": 19,
   "metadata": {
    "collapsed": true
   },
   "outputs": [],
   "source": [
    "from pyspark.sql import SparkSession\n",
    "from pyspark.sql import Row\n"
   ]
  },
  {
   "cell_type": "markdown",
   "metadata": {},
   "source": [
    "## Create a Spark SQL Session"
   ]
  },
  {
   "cell_type": "code",
   "execution_count": 20,
   "metadata": {
    "collapsed": true,
    "scrolled": true
   },
   "outputs": [],
   "source": [
    "spark = SparkSession.builder.appName('SparkSQL').getOrCreate()"
   ]
  },
  {
   "cell_type": "markdown",
   "metadata": {},
   "source": [
    "try:\n",
    "    conf = SparkConf().setMaster(\"local[*]\")\n",
    "   \n",
    "except ValueError:\n",
    "    print('Spark Context already running')"
   ]
  },
  {
   "cell_type": "markdown",
   "metadata": {},
   "source": [
    "## Show the violations that have “Pokemon” in the description. Show only the license plate and the description (not the keys)"
   ]
  },
  {
   "cell_type": "markdown",
   "metadata": {},
   "source": [
    "### Create Schema for violations file"
   ]
  },
  {
   "cell_type": "code",
   "execution_count": 21,
   "metadata": {
    "collapsed": true
   },
   "outputs": [],
   "source": [
    "def parse_violations(line):\n",
    "    fields = line.split(',')\n",
    "    return Row(violationId=int(fields[0]), vdate=fields[1], town=fields[2], road=fields[3], \\\n",
    "               vdescription=fields[4], officer=fields[5], licensePlate=fields[6], offenderId = int(fields[7]) )"
   ]
  },
  {
   "cell_type": "markdown",
   "metadata": {},
   "source": [
    "### Create Schema for violations file"
   ]
  },
  {
   "cell_type": "code",
   "execution_count": 22,
   "metadata": {
    "collapsed": true
   },
   "outputs": [],
   "source": [
    "def parse_violations(line):\n",
    "    fields = line.split(',')\n",
    "    return Row(violationId=int(fields[0]), vdate=fields[1], town=fields[2], road=fields[3], \\\n",
    "               vdescription=fields[4], officer=fields[5], licensePlate=fields[6], offenderId = int(fields[7]) )"
   ]
  },
  {
   "cell_type": "markdown",
   "metadata": {},
   "source": [
    "### Create Schema for offender file"
   ]
  },
  {
   "cell_type": "code",
   "execution_count": 23,
   "metadata": {
    "collapsed": true
   },
   "outputs": [],
   "source": [
    "def parse_offenders(line):\n",
    "    fields = line.split(',')\n",
    "    return Row(offId=int(fields[0]), firstName=fields[1], lastName=fields[2], address=fields[3], \\\n",
    "               city=fields[4], state=fields[5], zip=fields[6], licenseNo=fields[7], licenseState=fields[8], \\\n",
    "               birthday = fields[9], height = fields[10], eyeColor = fields[11])"
   ]
  },
  {
   "cell_type": "markdown",
   "metadata": {},
   "source": [
    "### Read violations file and assign column name"
   ]
  },
  {
   "cell_type": "code",
   "execution_count": 24,
   "metadata": {},
   "outputs": [
    {
     "data": {
      "text/plain": [
       "['1,6/10/2015,Tacoma,815 Fire Access Road,Texting while driving,1,CJA 910,1',\n",
       " '2,7/28/2015,Bellevue,3379 Platinum Drive,Playing Pokemon while driving,1,UBT 465,2',\n",
       " '3,11/8/2015,Seattle,411 Lighthouse Drive,Improper lane change,1,CDG 467,3']"
      ]
     },
     "execution_count": 24,
     "metadata": {},
     "output_type": "execute_result"
    }
   ],
   "source": [
    "vioRDD = spark.sparkContext.textFile(\"violations.csv\")\n",
    "vioRDD.take(3)"
   ]
  },
  {
   "cell_type": "code",
   "execution_count": 25,
   "metadata": {
    "collapsed": true
   },
   "outputs": [],
   "source": [
    "svioRDD = vioRDD.map(parse_violations)"
   ]
  },
  {
   "cell_type": "markdown",
   "metadata": {},
   "source": [
    "### Read offenders fileand assign column name"
   ]
  },
  {
   "cell_type": "code",
   "execution_count": 26,
   "metadata": {},
   "outputs": [
    {
     "data": {
      "text/plain": [
       "['1,David,Bush,4097 Willison Street,Minneapolis,MN,55415,474-40-6641,WA,9/6/1943,\"5\\' 8\"\"\",Blue',\n",
       " '2,Kristie,Carpenter,1393 Elk Avenue,Britton,MI,49229,373-28-8156,WA,6/28/1989,\"5\\' 5\"\"\",Green',\n",
       " '3,Roy,Skinner,722 James Street,Rochester,NY,14611,070-60-4251,WA,2/19/1961,\"5\\' 8\"\"\",Brown']"
      ]
     },
     "execution_count": 26,
     "metadata": {},
     "output_type": "execute_result"
    }
   ],
   "source": [
    "offRDD = spark.sparkContext.textFile(\"offenders.csv\")\n",
    "offRDD.take(3)"
   ]
  },
  {
   "cell_type": "code",
   "execution_count": 27,
   "metadata": {
    "collapsed": true
   },
   "outputs": [],
   "source": [
    "soffRDD = offRDD.map(parse_offenders)"
   ]
  },
  {
   "cell_type": "markdown",
   "metadata": {},
   "source": [
    "### Register data frame as table"
   ]
  },
  {
   "cell_type": "code",
   "execution_count": 28,
   "metadata": {
    "collapsed": true
   },
   "outputs": [],
   "source": [
    "schemaVio = spark.createDataFrame(svioRDD).cache()\n",
    "schemaVio.createOrReplaceTempView('violations')"
   ]
  },
  {
   "cell_type": "code",
   "execution_count": 29,
   "metadata": {
    "collapsed": true
   },
   "outputs": [],
   "source": [
    "schemaOff = spark.createDataFrame(soffRDD).cache()\n",
    "schemaOff.createOrReplaceTempView('offenders')"
   ]
  },
  {
   "cell_type": "markdown",
   "metadata": {},
   "source": [
    "### Show license plate and description"
   ]
  },
  {
   "cell_type": "code",
   "execution_count": 30,
   "metadata": {},
   "outputs": [
    {
     "data": {
      "text/plain": [
       "[Row(firstName='Alan', lastName='Arbuckle', licensePlate='XKM 123', vdescription='Playing Pokemon while driving'),\n",
       " Row(firstName='Thomas', lastName='Watkins', licensePlate='DLF 145', vdescription='Playing Pokemon while driving'),\n",
       " Row(firstName='Raymond', lastName='Llamas', licensePlate='VCW 805', vdescription='Playing Pokemon while driving')]"
      ]
     },
     "execution_count": 30,
     "metadata": {},
     "output_type": "execute_result"
    }
   ],
   "source": [
    "allViolations = spark.sql(\"select firstName, lastName, licensePlate, vdescription from violations v \\\n",
    "                          join offenders o on v.offenderId = o.offID \\\n",
    "                          where vdescription like '%Pokemon%'\")\n",
    "allViolations.take(3)"
   ]
  },
  {
   "cell_type": "markdown",
   "metadata": {},
   "source": [
    "### Iterate through dataframe and show only values, not keys"
   ]
  },
  {
   "cell_type": "code",
   "execution_count": 31,
   "metadata": {},
   "outputs": [
    {
     "name": "stdout",
     "output_type": "stream",
     "text": [
      "Kristie Carpenter UBT 465 Playing Pokemon while driving\n",
      "Raymond Llamas VCW 805 Playing Pokemon while driving\n",
      "Thomas Watkins DLF 145 Playing Pokemon while driving\n",
      "Alan Arbuckle XKM 123 Playing Pokemon while driving\n",
      "Jessica Lozano DCY 965 Playing Pokemon while driving\n"
     ]
    }
   ],
   "source": [
    "vio = allViolations.collect()\n",
    "for i in vio:\n",
    "    print(i[0], i[1], i[2], i[3])\n",
    "    "
   ]
  }
 ],
 "metadata": {
  "kernelspec": {
   "display_name": "Python 3",
   "language": "python",
   "name": "python3"
  },
  "language_info": {
   "codemirror_mode": {
    "name": "ipython",
    "version": 3
   },
   "file_extension": ".py",
   "mimetype": "text/x-python",
   "name": "python",
   "nbconvert_exporter": "python",
   "pygments_lexer": "ipython3",
   "version": "3.6.2"
  }
 },
 "nbformat": 4,
 "nbformat_minor": 2
}
